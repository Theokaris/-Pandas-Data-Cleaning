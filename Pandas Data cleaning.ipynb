{
 "cells": [
  {
   "cell_type": "code",
   "execution_count": 1,
   "id": "d39b90a8",
   "metadata": {},
   "outputs": [],
   "source": [
    "# import the pandas module\n",
    "import pandas as pd"
   ]
  },
  {
   "cell_type": "code",
   "execution_count": 2,
   "id": "49eb60f1",
   "metadata": {},
   "outputs": [
    {
     "data": {
      "text/html": [
       "<div>\n",
       "<style scoped>\n",
       "    .dataframe tbody tr th:only-of-type {\n",
       "        vertical-align: middle;\n",
       "    }\n",
       "\n",
       "    .dataframe tbody tr th {\n",
       "        vertical-align: top;\n",
       "    }\n",
       "\n",
       "    .dataframe thead th {\n",
       "        text-align: right;\n",
       "    }\n",
       "</style>\n",
       "<table border=\"1\" class=\"dataframe\">\n",
       "  <thead>\n",
       "    <tr style=\"text-align: right;\">\n",
       "      <th></th>\n",
       "      <th>TrnsnID</th>\n",
       "      <th>Data</th>\n",
       "      <th>CusmrID</th>\n",
       "      <th>ProdtID</th>\n",
       "      <th>ProdtName</th>\n",
       "      <th>Qutity</th>\n",
       "      <th>Prize</th>\n",
       "      <th>TtlSales</th>\n",
       "      <th>PaymentType</th>\n",
       "      <th>CusterAge</th>\n",
       "    </tr>\n",
       "  </thead>\n",
       "  <tbody>\n",
       "    <tr>\n",
       "      <th>0</th>\n",
       "      <td>7402</td>\n",
       "      <td>03/17/2026</td>\n",
       "      <td>991</td>\n",
       "      <td>1045</td>\n",
       "      <td>Boo E</td>\n",
       "      <td>9</td>\n",
       "      <td>167.72</td>\n",
       "      <td>2935.06</td>\n",
       "      <td>NaN</td>\n",
       "      <td>87</td>\n",
       "    </tr>\n",
       "    <tr>\n",
       "      <th>1</th>\n",
       "      <td>5835</td>\n",
       "      <td>26-01-2035</td>\n",
       "      <td>741</td>\n",
       "      <td>1040</td>\n",
       "      <td>Book J</td>\n",
       "      <td>18</td>\n",
       "      <td>193.27</td>\n",
       "      <td>4386.52</td>\n",
       "      <td>debit card</td>\n",
       "      <td>69</td>\n",
       "    </tr>\n",
       "    <tr>\n",
       "      <th>2</th>\n",
       "      <td>2123</td>\n",
       "      <td>05/26/2035</td>\n",
       "      <td>933</td>\n",
       "      <td>1062</td>\n",
       "      <td>Bok N</td>\n",
       "      <td>5</td>\n",
       "      <td>126.39</td>\n",
       "      <td>1948.46</td>\n",
       "      <td>Cash</td>\n",
       "      <td>15</td>\n",
       "    </tr>\n",
       "    <tr>\n",
       "      <th>3</th>\n",
       "      <td>8789</td>\n",
       "      <td>28-02-2036</td>\n",
       "      <td>641</td>\n",
       "      <td>1060</td>\n",
       "      <td>Book I</td>\n",
       "      <td>6</td>\n",
       "      <td>66.98</td>\n",
       "      <td>1757.26</td>\n",
       "      <td>Cash</td>\n",
       "      <td>22</td>\n",
       "    </tr>\n",
       "    <tr>\n",
       "      <th>4</th>\n",
       "      <td>305</td>\n",
       "      <td>19-04-2023</td>\n",
       "      <td>123</td>\n",
       "      <td>1058</td>\n",
       "      <td>Book B</td>\n",
       "      <td>15</td>\n",
       "      <td>33.63</td>\n",
       "      <td>2578.19</td>\n",
       "      <td>Cash</td>\n",
       "      <td>-1</td>\n",
       "    </tr>\n",
       "  </tbody>\n",
       "</table>\n",
       "</div>"
      ],
      "text/plain": [
       "   TrnsnID        Data  CusmrID  ProdtID ProdtName  Qutity   Prize  TtlSales  \\\n",
       "0     7402  03/17/2026      991     1045     Boo E       9  167.72   2935.06   \n",
       "1     5835  26-01-2035      741     1040    Book J      18  193.27   4386.52   \n",
       "2     2123  05/26/2035      933     1062     Bok N       5  126.39   1948.46   \n",
       "3     8789  28-02-2036      641     1060    Book I       6   66.98   1757.26   \n",
       "4      305  19-04-2023      123     1058    Book B      15   33.63   2578.19   \n",
       "\n",
       "  PaymentType  CusterAge  \n",
       "0         NaN         87  \n",
       "1  debit card         69  \n",
       "2        Cash         15  \n",
       "3        Cash         22  \n",
       "4        Cash         -1  "
      ]
     },
     "execution_count": 2,
     "metadata": {},
     "output_type": "execute_result"
    }
   ],
   "source": [
    "# import the file\n",
    "messy_data = pd.read_csv(\"messy_data.csv\")\n",
    "\n",
    "# Returning the first five rows of the data\n",
    "messy_data.head()"
   ]
  },
  {
   "cell_type": "code",
   "execution_count": 3,
   "id": "9e6410ab",
   "metadata": {},
   "outputs": [
    {
     "data": {
      "text/plain": [
       "(10100, 10)"
      ]
     },
     "execution_count": 3,
     "metadata": {},
     "output_type": "execute_result"
    }
   ],
   "source": [
    "# Deriving basic info from the data\n",
    "messy_data.shape # Gives the number of rows and columns available"
   ]
  },
  {
   "cell_type": "code",
   "execution_count": 5,
   "id": "c2a26a1b",
   "metadata": {},
   "outputs": [
    {
     "name": "stdout",
     "output_type": "stream",
     "text": [
      "<class 'pandas.core.frame.DataFrame'>\n",
      "RangeIndex: 10100 entries, 0 to 10099\n",
      "Data columns (total 10 columns):\n",
      " #   Column       Non-Null Count  Dtype  \n",
      "---  ------       --------------  -----  \n",
      " 0   TrnsnID      10100 non-null  int64  \n",
      " 1   Data         10100 non-null  object \n",
      " 2   CusmrID      10100 non-null  int64  \n",
      " 3   ProdtID      10100 non-null  int64  \n",
      " 4   ProdtName    9098 non-null   object \n",
      " 5   Qutity       10100 non-null  int64  \n",
      " 6   Prize        10100 non-null  float64\n",
      " 7   TtlSales     10100 non-null  float64\n",
      " 8   PaymentType  8645 non-null   object \n",
      " 9   CusterAge    10100 non-null  int64  \n",
      "dtypes: float64(2), int64(5), object(3)\n",
      "memory usage: 789.2+ KB\n"
     ]
    }
   ],
   "source": [
    "messy_data.info() # Gives general information about the data"
   ]
  },
  {
   "cell_type": "code",
   "execution_count": 6,
   "id": "f10b8234",
   "metadata": {},
   "outputs": [
    {
     "name": "stdout",
     "output_type": "stream",
     "text": [
      "Initial DataFrame shape: (10100, 10)\n"
     ]
    }
   ],
   "source": [
    "# Before editing the file, a copy of the original file will be saved for reference purposes\n",
    "data = messy_data.copy()\n",
    "\n",
    "print(\"Initial DataFrame shape:\", data.shape)"
   ]
  },
  {
   "cell_type": "code",
   "execution_count": 9,
   "id": "f683d2ef",
   "metadata": {},
   "outputs": [
    {
     "name": "stdout",
     "output_type": "stream",
     "text": [
      "DataFrame shape after removal of duplicates: (10000, 10)\n"
     ]
    }
   ],
   "source": [
    "# Removing duplicates\n",
    "data.drop_duplicates(inplace = True, keep = \"first\")\n",
    "\n",
    "print(\"DataFrame shape after removal of duplicates:\", data.shape)"
   ]
  },
  {
   "cell_type": "markdown",
   "id": "0bb71e42",
   "metadata": {},
   "source": [
    "> The inital Dataframe had 10,100 rows but after duplicates were removed we were left with 10,000 unique rows. This means there were 100 duplicates in the data set. "
   ]
  },
  {
   "cell_type": "markdown",
   "id": "0a772c3f",
   "metadata": {},
   "source": [
    "# Renaming column names to more readable ones"
   ]
  },
  {
   "cell_type": "code",
   "execution_count": 10,
   "id": "b5514d40",
   "metadata": {},
   "outputs": [
    {
     "data": {
      "text/plain": [
       "Index(['TrnsnID', 'Data', 'CusmrID', 'ProdtID', 'ProdtName', 'Qutity', 'Prize',\n",
       "       'TtlSales', 'PaymentType', 'CusterAge'],\n",
       "      dtype='object')"
      ]
     },
     "execution_count": 10,
     "metadata": {},
     "output_type": "execute_result"
    }
   ],
   "source": [
    "# Checking current column names\n",
    "data.columns"
   ]
  },
  {
   "cell_type": "code",
   "execution_count": 11,
   "id": "8550912a",
   "metadata": {},
   "outputs": [
    {
     "data": {
      "text/plain": [
       "Index(['TransactionID', 'Date', 'CustomerID', 'ProductID', 'ProductName',\n",
       "       'Quantity', 'Price', 'TotalSales', 'PaymentType', 'CustomerAge'],\n",
       "      dtype='object')"
      ]
     },
     "execution_count": 11,
     "metadata": {},
     "output_type": "execute_result"
    }
   ],
   "source": [
    "# Changing column names\n",
    "data.rename(columns = {\n",
    "    'TrnsnID':'TransactionID',\n",
    "    'Data':'Date',\n",
    "    'CusmrID':'CustomerID',\n",
    "    'ProdtID':'ProductID',\n",
    "    'ProdtName':'ProductName',\n",
    "    'Qutity':'Quantity',\n",
    "    'Prize':'Price',\n",
    "    'TtlSales':'TotalSales',\n",
    "    'CusterAge':'CustomerAge'\n",
    "}, inplace = True)\n",
    "\n",
    "data.columns"
   ]
  },
  {
   "cell_type": "markdown",
   "id": "39938bf5",
   "metadata": {},
   "source": [
    "> The result above shown the names of the columns has been successfully renamed"
   ]
  },
  {
   "cell_type": "markdown",
   "id": "24f00e97",
   "metadata": {},
   "source": [
    "# Formatting columns Datatype"
   ]
  },
  {
   "cell_type": "code",
   "execution_count": 12,
   "id": "0a6878f9",
   "metadata": {},
   "outputs": [
    {
     "name": "stdout",
     "output_type": "stream",
     "text": [
      "<class 'pandas.core.frame.DataFrame'>\n",
      "Int64Index: 10000 entries, 0 to 10099\n",
      "Data columns (total 10 columns):\n",
      " #   Column         Non-Null Count  Dtype  \n",
      "---  ------         --------------  -----  \n",
      " 0   TransactionID  10000 non-null  int64  \n",
      " 1   Date           10000 non-null  object \n",
      " 2   CustomerID     10000 non-null  int64  \n",
      " 3   ProductID      10000 non-null  int64  \n",
      " 4   ProductName    9006 non-null   object \n",
      " 5   Quantity       10000 non-null  int64  \n",
      " 6   Price          10000 non-null  float64\n",
      " 7   TotalSales     10000 non-null  float64\n",
      " 8   PaymentType    8561 non-null   object \n",
      " 9   CustomerAge    10000 non-null  int64  \n",
      "dtypes: float64(2), int64(5), object(3)\n",
      "memory usage: 859.4+ KB\n"
     ]
    }
   ],
   "source": [
    "# Checking the current datatype of each column\n",
    "data.info()"
   ]
  },
  {
   "cell_type": "markdown",
   "id": "a8d5a554",
   "metadata": {},
   "source": [
    "> The result shows Date column is of object type instead of datetime."
   ]
  },
  {
   "cell_type": "code",
   "execution_count": 13,
   "id": "f065c19a",
   "metadata": {},
   "outputs": [
    {
     "name": "stdout",
     "output_type": "stream",
     "text": [
      "<class 'pandas.core.series.Series'>\n",
      "Int64Index: 10000 entries, 0 to 10099\n",
      "Series name: Date\n",
      "Non-Null Count  Dtype \n",
      "--------------  ----- \n",
      "10000 non-null  object\n",
      "dtypes: object(1)\n",
      "memory usage: 156.2+ KB\n"
     ]
    }
   ],
   "source": [
    "# Checking Date column information\n",
    "data[\"Date\"].info()"
   ]
  },
  {
   "cell_type": "code",
   "execution_count": 14,
   "id": "572cfb33",
   "metadata": {},
   "outputs": [
    {
     "data": {
      "text/plain": [
       "0        03/17/2026\n",
       "1        26-01-2035\n",
       "2        05/26/2035\n",
       "3        28-02-2036\n",
       "4        19-04-2023\n",
       "            ...    \n",
       "10095    04/03/2027\n",
       "10096    08/16/2025\n",
       "10097    06/18/2026\n",
       "10098    04/08/2034\n",
       "10099    26-04-2029\n",
       "Name: Date, Length: 10000, dtype: object"
      ]
     },
     "execution_count": 14,
     "metadata": {},
     "output_type": "execute_result"
    }
   ],
   "source": [
    "data[\"Date\"]"
   ]
  },
  {
   "cell_type": "markdown",
   "id": "c9a49f9c",
   "metadata": {},
   "source": [
    "> From the results of the dates shown, we have two formats. \n",
    "> We will use a function called parse from dateutil.parser. This function can automatically detect and parse various date formats. This will be used to create a function"
   ]
  },
  {
   "cell_type": "code",
   "execution_count": 15,
   "id": "fa21b36e",
   "metadata": {},
   "outputs": [],
   "source": [
    "# importing the parse function from the dateutil.parser module\n",
    "from dateutil.parser import parse\n",
    "\n",
    "#creating the clean_date function\n",
    "def clean_date(text):\n",
    "    try:\n",
    "        return parse(text)\n",
    "    except ValueError:\n",
    "        return text"
   ]
  },
  {
   "cell_type": "code",
   "execution_count": 16,
   "id": "416d0e34",
   "metadata": {},
   "outputs": [
    {
     "data": {
      "text/plain": [
       "0       2026-03-17\n",
       "1       2035-01-26\n",
       "2       2035-05-26\n",
       "3       2036-02-28\n",
       "4       2023-04-19\n",
       "           ...    \n",
       "10095   2027-04-03\n",
       "10096   2025-08-16\n",
       "10097   2026-06-18\n",
       "10098   2034-04-08\n",
       "10099   2029-04-26\n",
       "Name: Date, Length: 10000, dtype: datetime64[ns]"
      ]
     },
     "execution_count": 16,
     "metadata": {},
     "output_type": "execute_result"
    }
   ],
   "source": [
    "# Applying the clean_date function to the date column\n",
    "data['Date'] = data['Date'].apply(clean_date)\n",
    "data['Date'] = pd.to_datetime(data['Date'])\n",
    "\n",
    "data['Date']"
   ]
  },
  {
   "cell_type": "code",
   "execution_count": 17,
   "id": "42c296ea",
   "metadata": {},
   "outputs": [
    {
     "name": "stdout",
     "output_type": "stream",
     "text": [
      "<class 'pandas.core.series.Series'>\n",
      "Int64Index: 10000 entries, 0 to 10099\n",
      "Series name: Date\n",
      "Non-Null Count  Dtype         \n",
      "--------------  -----         \n",
      "10000 non-null  datetime64[ns]\n",
      "dtypes: datetime64[ns](1)\n",
      "memory usage: 156.2 KB\n"
     ]
    }
   ],
   "source": [
    "# Checking the datatype info of the Date column\n",
    "data[\"Date\"].info()"
   ]
  },
  {
   "cell_type": "markdown",
   "id": "0b55cc54",
   "metadata": {},
   "source": [
    "> The results shows that the datatype of the Date column has been formatted to datetime"
   ]
  },
  {
   "cell_type": "markdown",
   "id": "9ffe493f",
   "metadata": {},
   "source": [
    "# Standardizing the payment type names"
   ]
  },
  {
   "cell_type": "code",
   "execution_count": 18,
   "id": "1505ef79",
   "metadata": {},
   "outputs": [
    {
     "data": {
      "text/plain": [
       "Debit          1452\n",
       "Credit         1433\n",
       "Cash           1426\n",
       "Credit Card    1419\n",
       "debit card     1417\n",
       "paypal         1414\n",
       "Name: PaymentType, dtype: int64"
      ]
     },
     "execution_count": 18,
     "metadata": {},
     "output_type": "execute_result"
    }
   ],
   "source": [
    "# Checking for the unique values in payment type column\n",
    "data[\"PaymentType\"].value_counts()"
   ]
  },
  {
   "cell_type": "markdown",
   "id": "1433adfe",
   "metadata": {},
   "source": [
    "> Results shows entries not standadized such as Debit, Credit, and others in lower case."
   ]
  },
  {
   "cell_type": "code",
   "execution_count": 19,
   "id": "4bbe1cc1",
   "metadata": {},
   "outputs": [
    {
     "data": {
      "text/plain": [
       "Debit Card     2869\n",
       "Credit Card    2852\n",
       "Cash           1426\n",
       "Paypal         1414\n",
       "Name: PaymentType, dtype: int64"
      ]
     },
     "execution_count": 19,
     "metadata": {},
     "output_type": "execute_result"
    }
   ],
   "source": [
    "# Standardizing the payment type names\n",
    "data[\"PaymentType\"].replace({\n",
    "    \"Debit\":\"Debit Card\",\n",
    "    \"Credit\":\"Credit Card\",\n",
    "    \"Cash\":\"Cash\",\n",
    "    \"Credit Card\":\"Credit Card\",\n",
    "    \"debit card\":\"Debit Card\",\n",
    "    \"paypal\":\"Paypal\"\n",
    "}, inplace = True)\n",
    "\n",
    "data[\"PaymentType\"].value_counts()"
   ]
  },
  {
   "cell_type": "markdown",
   "id": "69147a5b",
   "metadata": {},
   "source": [
    "# Checking for missing values"
   ]
  },
  {
   "cell_type": "code",
   "execution_count": 20,
   "id": "cbb02188",
   "metadata": {},
   "outputs": [
    {
     "data": {
      "text/plain": [
       "TransactionID       0\n",
       "Date                0\n",
       "CustomerID          0\n",
       "ProductID           0\n",
       "ProductName       994\n",
       "Quantity            0\n",
       "Price               0\n",
       "TotalSales          0\n",
       "PaymentType      1439\n",
       "CustomerAge         0\n",
       "dtype: int64"
      ]
     },
     "execution_count": 20,
     "metadata": {},
     "output_type": "execute_result"
    }
   ],
   "source": [
    "# Checking number of missing values present in each column\n",
    "data.isnull().sum()"
   ]
  },
  {
   "cell_type": "markdown",
   "id": "9438939d",
   "metadata": {},
   "source": [
    "> The result shows that the column ProductName contains 994 missing values and PaymentType has 1439 missing values. "
   ]
  },
  {
   "cell_type": "markdown",
   "id": "b01b0c8d",
   "metadata": {},
   "source": [
    "> Since the numbers of missing values are quite many, we will replace them with \"unknown\" to avoid bias. "
   ]
  },
  {
   "cell_type": "code",
   "execution_count": 21,
   "id": "b925269c",
   "metadata": {},
   "outputs": [],
   "source": [
    "# Replacing empty values with \"Unknown\"\n",
    "data.fillna(\"Unknown\", inplace = True)"
   ]
  },
  {
   "cell_type": "code",
   "execution_count": 22,
   "id": "2494c420",
   "metadata": {},
   "outputs": [
    {
     "data": {
      "text/plain": [
       "TransactionID    0\n",
       "Date             0\n",
       "CustomerID       0\n",
       "ProductID        0\n",
       "ProductName      0\n",
       "Quantity         0\n",
       "Price            0\n",
       "TotalSales       0\n",
       "PaymentType      0\n",
       "CustomerAge      0\n",
       "dtype: int64"
      ]
     },
     "execution_count": 22,
     "metadata": {},
     "output_type": "execute_result"
    }
   ],
   "source": [
    "# Checking number of missing values present in each column\n",
    "data.isnull().sum()"
   ]
  },
  {
   "cell_type": "markdown",
   "id": "93c5ad62",
   "metadata": {},
   "source": [
    "> Result shows that missing values have been replaced. "
   ]
  },
  {
   "cell_type": "markdown",
   "id": "c2ca9667",
   "metadata": {},
   "source": [
    "# Identifying and dealing with negative values in columns"
   ]
  },
  {
   "cell_type": "code",
   "execution_count": 23,
   "id": "5d66b5f4",
   "metadata": {},
   "outputs": [
    {
     "name": "stdout",
     "output_type": "stream",
     "text": [
      "<class 'pandas.core.frame.DataFrame'>\n",
      "Int64Index: 10000 entries, 0 to 10099\n",
      "Data columns (total 10 columns):\n",
      " #   Column         Non-Null Count  Dtype         \n",
      "---  ------         --------------  -----         \n",
      " 0   TransactionID  10000 non-null  int64         \n",
      " 1   Date           10000 non-null  datetime64[ns]\n",
      " 2   CustomerID     10000 non-null  int64         \n",
      " 3   ProductID      10000 non-null  int64         \n",
      " 4   ProductName    10000 non-null  object        \n",
      " 5   Quantity       10000 non-null  int64         \n",
      " 6   Price          10000 non-null  float64       \n",
      " 7   TotalSales     10000 non-null  float64       \n",
      " 8   PaymentType    10000 non-null  object        \n",
      " 9   CustomerAge    10000 non-null  int64         \n",
      "dtypes: datetime64[ns](1), float64(2), int64(5), object(2)\n",
      "memory usage: 859.4+ KB\n"
     ]
    }
   ],
   "source": [
    "# Checking columns with int or float datatype\n",
    "data.info()"
   ]
  },
  {
   "cell_type": "code",
   "execution_count": 24,
   "id": "5c98ada3",
   "metadata": {},
   "outputs": [
    {
     "data": {
      "text/html": [
       "<div>\n",
       "<style scoped>\n",
       "    .dataframe tbody tr th:only-of-type {\n",
       "        vertical-align: middle;\n",
       "    }\n",
       "\n",
       "    .dataframe tbody tr th {\n",
       "        vertical-align: top;\n",
       "    }\n",
       "\n",
       "    .dataframe thead th {\n",
       "        text-align: right;\n",
       "    }\n",
       "</style>\n",
       "<table border=\"1\" class=\"dataframe\">\n",
       "  <thead>\n",
       "    <tr style=\"text-align: right;\">\n",
       "      <th></th>\n",
       "      <th>TransactionID</th>\n",
       "      <th>Date</th>\n",
       "      <th>CustomerID</th>\n",
       "      <th>ProductID</th>\n",
       "      <th>ProductName</th>\n",
       "      <th>Quantity</th>\n",
       "      <th>Price</th>\n",
       "      <th>TotalSales</th>\n",
       "      <th>PaymentType</th>\n",
       "      <th>CustomerAge</th>\n",
       "    </tr>\n",
       "  </thead>\n",
       "  <tbody>\n",
       "    <tr>\n",
       "      <th>3491</th>\n",
       "      <td>NaN</td>\n",
       "      <td>NaT</td>\n",
       "      <td>NaN</td>\n",
       "      <td>NaN</td>\n",
       "      <td>NaN</td>\n",
       "      <td>NaN</td>\n",
       "      <td>NaN</td>\n",
       "      <td>NaN</td>\n",
       "      <td>NaN</td>\n",
       "      <td>NaN</td>\n",
       "    </tr>\n",
       "    <tr>\n",
       "      <th>5945</th>\n",
       "      <td>NaN</td>\n",
       "      <td>NaT</td>\n",
       "      <td>NaN</td>\n",
       "      <td>NaN</td>\n",
       "      <td>NaN</td>\n",
       "      <td>NaN</td>\n",
       "      <td>NaN</td>\n",
       "      <td>NaN</td>\n",
       "      <td>NaN</td>\n",
       "      <td>NaN</td>\n",
       "    </tr>\n",
       "    <tr>\n",
       "      <th>3175</th>\n",
       "      <td>NaN</td>\n",
       "      <td>NaT</td>\n",
       "      <td>NaN</td>\n",
       "      <td>NaN</td>\n",
       "      <td>NaN</td>\n",
       "      <td>NaN</td>\n",
       "      <td>NaN</td>\n",
       "      <td>NaN</td>\n",
       "      <td>NaN</td>\n",
       "      <td>NaN</td>\n",
       "    </tr>\n",
       "    <tr>\n",
       "      <th>2402</th>\n",
       "      <td>NaN</td>\n",
       "      <td>NaT</td>\n",
       "      <td>NaN</td>\n",
       "      <td>NaN</td>\n",
       "      <td>NaN</td>\n",
       "      <td>NaN</td>\n",
       "      <td>NaN</td>\n",
       "      <td>NaN</td>\n",
       "      <td>NaN</td>\n",
       "      <td>NaN</td>\n",
       "    </tr>\n",
       "    <tr>\n",
       "      <th>4533</th>\n",
       "      <td>NaN</td>\n",
       "      <td>NaT</td>\n",
       "      <td>NaN</td>\n",
       "      <td>NaN</td>\n",
       "      <td>NaN</td>\n",
       "      <td>-1.0</td>\n",
       "      <td>NaN</td>\n",
       "      <td>NaN</td>\n",
       "      <td>NaN</td>\n",
       "      <td>NaN</td>\n",
       "    </tr>\n",
       "    <tr>\n",
       "      <th>3270</th>\n",
       "      <td>NaN</td>\n",
       "      <td>NaT</td>\n",
       "      <td>NaN</td>\n",
       "      <td>NaN</td>\n",
       "      <td>NaN</td>\n",
       "      <td>NaN</td>\n",
       "      <td>NaN</td>\n",
       "      <td>NaN</td>\n",
       "      <td>NaN</td>\n",
       "      <td>NaN</td>\n",
       "    </tr>\n",
       "    <tr>\n",
       "      <th>1897</th>\n",
       "      <td>NaN</td>\n",
       "      <td>NaT</td>\n",
       "      <td>NaN</td>\n",
       "      <td>NaN</td>\n",
       "      <td>NaN</td>\n",
       "      <td>-2.0</td>\n",
       "      <td>NaN</td>\n",
       "      <td>NaN</td>\n",
       "      <td>NaN</td>\n",
       "      <td>NaN</td>\n",
       "    </tr>\n",
       "    <tr>\n",
       "      <th>7204</th>\n",
       "      <td>NaN</td>\n",
       "      <td>NaT</td>\n",
       "      <td>NaN</td>\n",
       "      <td>NaN</td>\n",
       "      <td>NaN</td>\n",
       "      <td>NaN</td>\n",
       "      <td>NaN</td>\n",
       "      <td>NaN</td>\n",
       "      <td>NaN</td>\n",
       "      <td>-1.0</td>\n",
       "    </tr>\n",
       "    <tr>\n",
       "      <th>3628</th>\n",
       "      <td>NaN</td>\n",
       "      <td>NaT</td>\n",
       "      <td>NaN</td>\n",
       "      <td>NaN</td>\n",
       "      <td>NaN</td>\n",
       "      <td>NaN</td>\n",
       "      <td>NaN</td>\n",
       "      <td>NaN</td>\n",
       "      <td>NaN</td>\n",
       "      <td>NaN</td>\n",
       "    </tr>\n",
       "    <tr>\n",
       "      <th>235</th>\n",
       "      <td>NaN</td>\n",
       "      <td>NaT</td>\n",
       "      <td>NaN</td>\n",
       "      <td>NaN</td>\n",
       "      <td>NaN</td>\n",
       "      <td>NaN</td>\n",
       "      <td>NaN</td>\n",
       "      <td>NaN</td>\n",
       "      <td>NaN</td>\n",
       "      <td>NaN</td>\n",
       "    </tr>\n",
       "    <tr>\n",
       "      <th>9826</th>\n",
       "      <td>NaN</td>\n",
       "      <td>NaT</td>\n",
       "      <td>NaN</td>\n",
       "      <td>NaN</td>\n",
       "      <td>NaN</td>\n",
       "      <td>NaN</td>\n",
       "      <td>NaN</td>\n",
       "      <td>NaN</td>\n",
       "      <td>NaN</td>\n",
       "      <td>NaN</td>\n",
       "    </tr>\n",
       "    <tr>\n",
       "      <th>1795</th>\n",
       "      <td>NaN</td>\n",
       "      <td>NaT</td>\n",
       "      <td>NaN</td>\n",
       "      <td>NaN</td>\n",
       "      <td>NaN</td>\n",
       "      <td>NaN</td>\n",
       "      <td>NaN</td>\n",
       "      <td>NaN</td>\n",
       "      <td>NaN</td>\n",
       "      <td>NaN</td>\n",
       "    </tr>\n",
       "    <tr>\n",
       "      <th>7012</th>\n",
       "      <td>NaN</td>\n",
       "      <td>NaT</td>\n",
       "      <td>NaN</td>\n",
       "      <td>NaN</td>\n",
       "      <td>NaN</td>\n",
       "      <td>NaN</td>\n",
       "      <td>NaN</td>\n",
       "      <td>NaN</td>\n",
       "      <td>NaN</td>\n",
       "      <td>NaN</td>\n",
       "    </tr>\n",
       "    <tr>\n",
       "      <th>2889</th>\n",
       "      <td>NaN</td>\n",
       "      <td>NaT</td>\n",
       "      <td>NaN</td>\n",
       "      <td>NaN</td>\n",
       "      <td>NaN</td>\n",
       "      <td>NaN</td>\n",
       "      <td>NaN</td>\n",
       "      <td>NaN</td>\n",
       "      <td>NaN</td>\n",
       "      <td>NaN</td>\n",
       "    </tr>\n",
       "    <tr>\n",
       "      <th>4419</th>\n",
       "      <td>NaN</td>\n",
       "      <td>NaT</td>\n",
       "      <td>NaN</td>\n",
       "      <td>NaN</td>\n",
       "      <td>NaN</td>\n",
       "      <td>-5.0</td>\n",
       "      <td>NaN</td>\n",
       "      <td>NaN</td>\n",
       "      <td>NaN</td>\n",
       "      <td>NaN</td>\n",
       "    </tr>\n",
       "    <tr>\n",
       "      <th>8869</th>\n",
       "      <td>NaN</td>\n",
       "      <td>NaT</td>\n",
       "      <td>NaN</td>\n",
       "      <td>NaN</td>\n",
       "      <td>NaN</td>\n",
       "      <td>NaN</td>\n",
       "      <td>NaN</td>\n",
       "      <td>NaN</td>\n",
       "      <td>NaN</td>\n",
       "      <td>NaN</td>\n",
       "    </tr>\n",
       "    <tr>\n",
       "      <th>8081</th>\n",
       "      <td>NaN</td>\n",
       "      <td>NaT</td>\n",
       "      <td>NaN</td>\n",
       "      <td>NaN</td>\n",
       "      <td>NaN</td>\n",
       "      <td>NaN</td>\n",
       "      <td>NaN</td>\n",
       "      <td>NaN</td>\n",
       "      <td>NaN</td>\n",
       "      <td>NaN</td>\n",
       "    </tr>\n",
       "    <tr>\n",
       "      <th>10053</th>\n",
       "      <td>NaN</td>\n",
       "      <td>NaT</td>\n",
       "      <td>NaN</td>\n",
       "      <td>NaN</td>\n",
       "      <td>NaN</td>\n",
       "      <td>NaN</td>\n",
       "      <td>NaN</td>\n",
       "      <td>NaN</td>\n",
       "      <td>NaN</td>\n",
       "      <td>NaN</td>\n",
       "    </tr>\n",
       "    <tr>\n",
       "      <th>2047</th>\n",
       "      <td>NaN</td>\n",
       "      <td>NaT</td>\n",
       "      <td>NaN</td>\n",
       "      <td>NaN</td>\n",
       "      <td>NaN</td>\n",
       "      <td>NaN</td>\n",
       "      <td>NaN</td>\n",
       "      <td>NaN</td>\n",
       "      <td>NaN</td>\n",
       "      <td>NaN</td>\n",
       "    </tr>\n",
       "    <tr>\n",
       "      <th>8624</th>\n",
       "      <td>NaN</td>\n",
       "      <td>NaT</td>\n",
       "      <td>NaN</td>\n",
       "      <td>NaN</td>\n",
       "      <td>NaN</td>\n",
       "      <td>NaN</td>\n",
       "      <td>NaN</td>\n",
       "      <td>NaN</td>\n",
       "      <td>NaN</td>\n",
       "      <td>NaN</td>\n",
       "    </tr>\n",
       "    <tr>\n",
       "      <th>5682</th>\n",
       "      <td>NaN</td>\n",
       "      <td>NaT</td>\n",
       "      <td>NaN</td>\n",
       "      <td>NaN</td>\n",
       "      <td>NaN</td>\n",
       "      <td>NaN</td>\n",
       "      <td>NaN</td>\n",
       "      <td>NaN</td>\n",
       "      <td>NaN</td>\n",
       "      <td>NaN</td>\n",
       "    </tr>\n",
       "    <tr>\n",
       "      <th>4790</th>\n",
       "      <td>NaN</td>\n",
       "      <td>NaT</td>\n",
       "      <td>NaN</td>\n",
       "      <td>NaN</td>\n",
       "      <td>NaN</td>\n",
       "      <td>NaN</td>\n",
       "      <td>NaN</td>\n",
       "      <td>NaN</td>\n",
       "      <td>NaN</td>\n",
       "      <td>NaN</td>\n",
       "    </tr>\n",
       "    <tr>\n",
       "      <th>2935</th>\n",
       "      <td>NaN</td>\n",
       "      <td>NaT</td>\n",
       "      <td>NaN</td>\n",
       "      <td>NaN</td>\n",
       "      <td>NaN</td>\n",
       "      <td>NaN</td>\n",
       "      <td>NaN</td>\n",
       "      <td>NaN</td>\n",
       "      <td>NaN</td>\n",
       "      <td>-6.0</td>\n",
       "    </tr>\n",
       "    <tr>\n",
       "      <th>6958</th>\n",
       "      <td>NaN</td>\n",
       "      <td>NaT</td>\n",
       "      <td>NaN</td>\n",
       "      <td>NaN</td>\n",
       "      <td>NaN</td>\n",
       "      <td>-1.0</td>\n",
       "      <td>NaN</td>\n",
       "      <td>NaN</td>\n",
       "      <td>NaN</td>\n",
       "      <td>NaN</td>\n",
       "    </tr>\n",
       "    <tr>\n",
       "      <th>2732</th>\n",
       "      <td>NaN</td>\n",
       "      <td>NaT</td>\n",
       "      <td>NaN</td>\n",
       "      <td>NaN</td>\n",
       "      <td>NaN</td>\n",
       "      <td>-2.0</td>\n",
       "      <td>NaN</td>\n",
       "      <td>NaN</td>\n",
       "      <td>NaN</td>\n",
       "      <td>NaN</td>\n",
       "    </tr>\n",
       "    <tr>\n",
       "      <th>7815</th>\n",
       "      <td>NaN</td>\n",
       "      <td>NaT</td>\n",
       "      <td>NaN</td>\n",
       "      <td>NaN</td>\n",
       "      <td>NaN</td>\n",
       "      <td>NaN</td>\n",
       "      <td>NaN</td>\n",
       "      <td>NaN</td>\n",
       "      <td>NaN</td>\n",
       "      <td>NaN</td>\n",
       "    </tr>\n",
       "    <tr>\n",
       "      <th>7924</th>\n",
       "      <td>NaN</td>\n",
       "      <td>NaT</td>\n",
       "      <td>NaN</td>\n",
       "      <td>NaN</td>\n",
       "      <td>NaN</td>\n",
       "      <td>NaN</td>\n",
       "      <td>NaN</td>\n",
       "      <td>NaN</td>\n",
       "      <td>NaN</td>\n",
       "      <td>NaN</td>\n",
       "    </tr>\n",
       "    <tr>\n",
       "      <th>354</th>\n",
       "      <td>NaN</td>\n",
       "      <td>NaT</td>\n",
       "      <td>NaN</td>\n",
       "      <td>NaN</td>\n",
       "      <td>NaN</td>\n",
       "      <td>NaN</td>\n",
       "      <td>NaN</td>\n",
       "      <td>NaN</td>\n",
       "      <td>NaN</td>\n",
       "      <td>NaN</td>\n",
       "    </tr>\n",
       "    <tr>\n",
       "      <th>1690</th>\n",
       "      <td>NaN</td>\n",
       "      <td>NaT</td>\n",
       "      <td>NaN</td>\n",
       "      <td>NaN</td>\n",
       "      <td>NaN</td>\n",
       "      <td>NaN</td>\n",
       "      <td>NaN</td>\n",
       "      <td>NaN</td>\n",
       "      <td>NaN</td>\n",
       "      <td>NaN</td>\n",
       "    </tr>\n",
       "    <tr>\n",
       "      <th>4336</th>\n",
       "      <td>NaN</td>\n",
       "      <td>NaT</td>\n",
       "      <td>NaN</td>\n",
       "      <td>NaN</td>\n",
       "      <td>NaN</td>\n",
       "      <td>NaN</td>\n",
       "      <td>NaN</td>\n",
       "      <td>NaN</td>\n",
       "      <td>NaN</td>\n",
       "      <td>NaN</td>\n",
       "    </tr>\n",
       "    <tr>\n",
       "      <th>1500</th>\n",
       "      <td>NaN</td>\n",
       "      <td>NaT</td>\n",
       "      <td>NaN</td>\n",
       "      <td>NaN</td>\n",
       "      <td>NaN</td>\n",
       "      <td>NaN</td>\n",
       "      <td>NaN</td>\n",
       "      <td>NaN</td>\n",
       "      <td>NaN</td>\n",
       "      <td>NaN</td>\n",
       "    </tr>\n",
       "    <tr>\n",
       "      <th>6712</th>\n",
       "      <td>NaN</td>\n",
       "      <td>NaT</td>\n",
       "      <td>NaN</td>\n",
       "      <td>NaN</td>\n",
       "      <td>NaN</td>\n",
       "      <td>NaN</td>\n",
       "      <td>NaN</td>\n",
       "      <td>NaN</td>\n",
       "      <td>NaN</td>\n",
       "      <td>NaN</td>\n",
       "    </tr>\n",
       "    <tr>\n",
       "      <th>7656</th>\n",
       "      <td>NaN</td>\n",
       "      <td>NaT</td>\n",
       "      <td>NaN</td>\n",
       "      <td>NaN</td>\n",
       "      <td>NaN</td>\n",
       "      <td>NaN</td>\n",
       "      <td>NaN</td>\n",
       "      <td>NaN</td>\n",
       "      <td>NaN</td>\n",
       "      <td>NaN</td>\n",
       "    </tr>\n",
       "    <tr>\n",
       "      <th>1558</th>\n",
       "      <td>NaN</td>\n",
       "      <td>NaT</td>\n",
       "      <td>NaN</td>\n",
       "      <td>NaN</td>\n",
       "      <td>NaN</td>\n",
       "      <td>NaN</td>\n",
       "      <td>NaN</td>\n",
       "      <td>NaN</td>\n",
       "      <td>NaN</td>\n",
       "      <td>NaN</td>\n",
       "    </tr>\n",
       "    <tr>\n",
       "      <th>4036</th>\n",
       "      <td>NaN</td>\n",
       "      <td>NaT</td>\n",
       "      <td>NaN</td>\n",
       "      <td>NaN</td>\n",
       "      <td>NaN</td>\n",
       "      <td>NaN</td>\n",
       "      <td>NaN</td>\n",
       "      <td>NaN</td>\n",
       "      <td>NaN</td>\n",
       "      <td>NaN</td>\n",
       "    </tr>\n",
       "    <tr>\n",
       "      <th>7477</th>\n",
       "      <td>NaN</td>\n",
       "      <td>NaT</td>\n",
       "      <td>NaN</td>\n",
       "      <td>NaN</td>\n",
       "      <td>NaN</td>\n",
       "      <td>NaN</td>\n",
       "      <td>NaN</td>\n",
       "      <td>NaN</td>\n",
       "      <td>NaN</td>\n",
       "      <td>NaN</td>\n",
       "    </tr>\n",
       "    <tr>\n",
       "      <th>1126</th>\n",
       "      <td>NaN</td>\n",
       "      <td>NaT</td>\n",
       "      <td>NaN</td>\n",
       "      <td>NaN</td>\n",
       "      <td>NaN</td>\n",
       "      <td>NaN</td>\n",
       "      <td>NaN</td>\n",
       "      <td>NaN</td>\n",
       "      <td>NaN</td>\n",
       "      <td>NaN</td>\n",
       "    </tr>\n",
       "    <tr>\n",
       "      <th>5316</th>\n",
       "      <td>NaN</td>\n",
       "      <td>NaT</td>\n",
       "      <td>NaN</td>\n",
       "      <td>NaN</td>\n",
       "      <td>NaN</td>\n",
       "      <td>NaN</td>\n",
       "      <td>NaN</td>\n",
       "      <td>NaN</td>\n",
       "      <td>NaN</td>\n",
       "      <td>NaN</td>\n",
       "    </tr>\n",
       "    <tr>\n",
       "      <th>8772</th>\n",
       "      <td>NaN</td>\n",
       "      <td>NaT</td>\n",
       "      <td>NaN</td>\n",
       "      <td>NaN</td>\n",
       "      <td>NaN</td>\n",
       "      <td>-4.0</td>\n",
       "      <td>NaN</td>\n",
       "      <td>NaN</td>\n",
       "      <td>NaN</td>\n",
       "      <td>NaN</td>\n",
       "    </tr>\n",
       "    <tr>\n",
       "      <th>7183</th>\n",
       "      <td>NaN</td>\n",
       "      <td>NaT</td>\n",
       "      <td>NaN</td>\n",
       "      <td>NaN</td>\n",
       "      <td>NaN</td>\n",
       "      <td>NaN</td>\n",
       "      <td>NaN</td>\n",
       "      <td>NaN</td>\n",
       "      <td>NaN</td>\n",
       "      <td>NaN</td>\n",
       "    </tr>\n",
       "    <tr>\n",
       "      <th>3504</th>\n",
       "      <td>NaN</td>\n",
       "      <td>NaT</td>\n",
       "      <td>NaN</td>\n",
       "      <td>NaN</td>\n",
       "      <td>NaN</td>\n",
       "      <td>NaN</td>\n",
       "      <td>NaN</td>\n",
       "      <td>NaN</td>\n",
       "      <td>NaN</td>\n",
       "      <td>NaN</td>\n",
       "    </tr>\n",
       "    <tr>\n",
       "      <th>7207</th>\n",
       "      <td>NaN</td>\n",
       "      <td>NaT</td>\n",
       "      <td>NaN</td>\n",
       "      <td>NaN</td>\n",
       "      <td>NaN</td>\n",
       "      <td>NaN</td>\n",
       "      <td>NaN</td>\n",
       "      <td>NaN</td>\n",
       "      <td>NaN</td>\n",
       "      <td>NaN</td>\n",
       "    </tr>\n",
       "    <tr>\n",
       "      <th>7599</th>\n",
       "      <td>NaN</td>\n",
       "      <td>NaT</td>\n",
       "      <td>NaN</td>\n",
       "      <td>NaN</td>\n",
       "      <td>NaN</td>\n",
       "      <td>-3.0</td>\n",
       "      <td>NaN</td>\n",
       "      <td>NaN</td>\n",
       "      <td>NaN</td>\n",
       "      <td>NaN</td>\n",
       "    </tr>\n",
       "    <tr>\n",
       "      <th>6389</th>\n",
       "      <td>NaN</td>\n",
       "      <td>NaT</td>\n",
       "      <td>NaN</td>\n",
       "      <td>NaN</td>\n",
       "      <td>NaN</td>\n",
       "      <td>NaN</td>\n",
       "      <td>NaN</td>\n",
       "      <td>NaN</td>\n",
       "      <td>NaN</td>\n",
       "      <td>NaN</td>\n",
       "    </tr>\n",
       "    <tr>\n",
       "      <th>4274</th>\n",
       "      <td>NaN</td>\n",
       "      <td>NaT</td>\n",
       "      <td>NaN</td>\n",
       "      <td>NaN</td>\n",
       "      <td>NaN</td>\n",
       "      <td>NaN</td>\n",
       "      <td>NaN</td>\n",
       "      <td>NaN</td>\n",
       "      <td>NaN</td>\n",
       "      <td>NaN</td>\n",
       "    </tr>\n",
       "    <tr>\n",
       "      <th>7165</th>\n",
       "      <td>NaN</td>\n",
       "      <td>NaT</td>\n",
       "      <td>NaN</td>\n",
       "      <td>NaN</td>\n",
       "      <td>NaN</td>\n",
       "      <td>-3.0</td>\n",
       "      <td>NaN</td>\n",
       "      <td>NaN</td>\n",
       "      <td>NaN</td>\n",
       "      <td>NaN</td>\n",
       "    </tr>\n",
       "    <tr>\n",
       "      <th>307</th>\n",
       "      <td>NaN</td>\n",
       "      <td>NaT</td>\n",
       "      <td>NaN</td>\n",
       "      <td>NaN</td>\n",
       "      <td>NaN</td>\n",
       "      <td>NaN</td>\n",
       "      <td>NaN</td>\n",
       "      <td>NaN</td>\n",
       "      <td>NaN</td>\n",
       "      <td>NaN</td>\n",
       "    </tr>\n",
       "    <tr>\n",
       "      <th>9689</th>\n",
       "      <td>NaN</td>\n",
       "      <td>NaT</td>\n",
       "      <td>NaN</td>\n",
       "      <td>NaN</td>\n",
       "      <td>NaN</td>\n",
       "      <td>NaN</td>\n",
       "      <td>NaN</td>\n",
       "      <td>NaN</td>\n",
       "      <td>NaN</td>\n",
       "      <td>NaN</td>\n",
       "    </tr>\n",
       "    <tr>\n",
       "      <th>5647</th>\n",
       "      <td>NaN</td>\n",
       "      <td>NaT</td>\n",
       "      <td>NaN</td>\n",
       "      <td>NaN</td>\n",
       "      <td>NaN</td>\n",
       "      <td>NaN</td>\n",
       "      <td>NaN</td>\n",
       "      <td>NaN</td>\n",
       "      <td>NaN</td>\n",
       "      <td>NaN</td>\n",
       "    </tr>\n",
       "    <tr>\n",
       "      <th>9224</th>\n",
       "      <td>NaN</td>\n",
       "      <td>NaT</td>\n",
       "      <td>NaN</td>\n",
       "      <td>NaN</td>\n",
       "      <td>NaN</td>\n",
       "      <td>NaN</td>\n",
       "      <td>NaN</td>\n",
       "      <td>NaN</td>\n",
       "      <td>NaN</td>\n",
       "      <td>NaN</td>\n",
       "    </tr>\n",
       "  </tbody>\n",
       "</table>\n",
       "</div>"
      ],
      "text/plain": [
       "       TransactionID Date  CustomerID  ProductID ProductName  Quantity  Price  \\\n",
       "3491             NaN  NaT         NaN        NaN         NaN       NaN    NaN   \n",
       "5945             NaN  NaT         NaN        NaN         NaN       NaN    NaN   \n",
       "3175             NaN  NaT         NaN        NaN         NaN       NaN    NaN   \n",
       "2402             NaN  NaT         NaN        NaN         NaN       NaN    NaN   \n",
       "4533             NaN  NaT         NaN        NaN         NaN      -1.0    NaN   \n",
       "3270             NaN  NaT         NaN        NaN         NaN       NaN    NaN   \n",
       "1897             NaN  NaT         NaN        NaN         NaN      -2.0    NaN   \n",
       "7204             NaN  NaT         NaN        NaN         NaN       NaN    NaN   \n",
       "3628             NaN  NaT         NaN        NaN         NaN       NaN    NaN   \n",
       "235              NaN  NaT         NaN        NaN         NaN       NaN    NaN   \n",
       "9826             NaN  NaT         NaN        NaN         NaN       NaN    NaN   \n",
       "1795             NaN  NaT         NaN        NaN         NaN       NaN    NaN   \n",
       "7012             NaN  NaT         NaN        NaN         NaN       NaN    NaN   \n",
       "2889             NaN  NaT         NaN        NaN         NaN       NaN    NaN   \n",
       "4419             NaN  NaT         NaN        NaN         NaN      -5.0    NaN   \n",
       "8869             NaN  NaT         NaN        NaN         NaN       NaN    NaN   \n",
       "8081             NaN  NaT         NaN        NaN         NaN       NaN    NaN   \n",
       "10053            NaN  NaT         NaN        NaN         NaN       NaN    NaN   \n",
       "2047             NaN  NaT         NaN        NaN         NaN       NaN    NaN   \n",
       "8624             NaN  NaT         NaN        NaN         NaN       NaN    NaN   \n",
       "5682             NaN  NaT         NaN        NaN         NaN       NaN    NaN   \n",
       "4790             NaN  NaT         NaN        NaN         NaN       NaN    NaN   \n",
       "2935             NaN  NaT         NaN        NaN         NaN       NaN    NaN   \n",
       "6958             NaN  NaT         NaN        NaN         NaN      -1.0    NaN   \n",
       "2732             NaN  NaT         NaN        NaN         NaN      -2.0    NaN   \n",
       "7815             NaN  NaT         NaN        NaN         NaN       NaN    NaN   \n",
       "7924             NaN  NaT         NaN        NaN         NaN       NaN    NaN   \n",
       "354              NaN  NaT         NaN        NaN         NaN       NaN    NaN   \n",
       "1690             NaN  NaT         NaN        NaN         NaN       NaN    NaN   \n",
       "4336             NaN  NaT         NaN        NaN         NaN       NaN    NaN   \n",
       "1500             NaN  NaT         NaN        NaN         NaN       NaN    NaN   \n",
       "6712             NaN  NaT         NaN        NaN         NaN       NaN    NaN   \n",
       "7656             NaN  NaT         NaN        NaN         NaN       NaN    NaN   \n",
       "1558             NaN  NaT         NaN        NaN         NaN       NaN    NaN   \n",
       "4036             NaN  NaT         NaN        NaN         NaN       NaN    NaN   \n",
       "7477             NaN  NaT         NaN        NaN         NaN       NaN    NaN   \n",
       "1126             NaN  NaT         NaN        NaN         NaN       NaN    NaN   \n",
       "5316             NaN  NaT         NaN        NaN         NaN       NaN    NaN   \n",
       "8772             NaN  NaT         NaN        NaN         NaN      -4.0    NaN   \n",
       "7183             NaN  NaT         NaN        NaN         NaN       NaN    NaN   \n",
       "3504             NaN  NaT         NaN        NaN         NaN       NaN    NaN   \n",
       "7207             NaN  NaT         NaN        NaN         NaN       NaN    NaN   \n",
       "7599             NaN  NaT         NaN        NaN         NaN      -3.0    NaN   \n",
       "6389             NaN  NaT         NaN        NaN         NaN       NaN    NaN   \n",
       "4274             NaN  NaT         NaN        NaN         NaN       NaN    NaN   \n",
       "7165             NaN  NaT         NaN        NaN         NaN      -3.0    NaN   \n",
       "307              NaN  NaT         NaN        NaN         NaN       NaN    NaN   \n",
       "9689             NaN  NaT         NaN        NaN         NaN       NaN    NaN   \n",
       "5647             NaN  NaT         NaN        NaN         NaN       NaN    NaN   \n",
       "9224             NaN  NaT         NaN        NaN         NaN       NaN    NaN   \n",
       "\n",
       "       TotalSales PaymentType  CustomerAge  \n",
       "3491          NaN         NaN          NaN  \n",
       "5945          NaN         NaN          NaN  \n",
       "3175          NaN         NaN          NaN  \n",
       "2402          NaN         NaN          NaN  \n",
       "4533          NaN         NaN          NaN  \n",
       "3270          NaN         NaN          NaN  \n",
       "1897          NaN         NaN          NaN  \n",
       "7204          NaN         NaN         -1.0  \n",
       "3628          NaN         NaN          NaN  \n",
       "235           NaN         NaN          NaN  \n",
       "9826          NaN         NaN          NaN  \n",
       "1795          NaN         NaN          NaN  \n",
       "7012          NaN         NaN          NaN  \n",
       "2889          NaN         NaN          NaN  \n",
       "4419          NaN         NaN          NaN  \n",
       "8869          NaN         NaN          NaN  \n",
       "8081          NaN         NaN          NaN  \n",
       "10053         NaN         NaN          NaN  \n",
       "2047          NaN         NaN          NaN  \n",
       "8624          NaN         NaN          NaN  \n",
       "5682          NaN         NaN          NaN  \n",
       "4790          NaN         NaN          NaN  \n",
       "2935          NaN         NaN         -6.0  \n",
       "6958          NaN         NaN          NaN  \n",
       "2732          NaN         NaN          NaN  \n",
       "7815          NaN         NaN          NaN  \n",
       "7924          NaN         NaN          NaN  \n",
       "354           NaN         NaN          NaN  \n",
       "1690          NaN         NaN          NaN  \n",
       "4336          NaN         NaN          NaN  \n",
       "1500          NaN         NaN          NaN  \n",
       "6712          NaN         NaN          NaN  \n",
       "7656          NaN         NaN          NaN  \n",
       "1558          NaN         NaN          NaN  \n",
       "4036          NaN         NaN          NaN  \n",
       "7477          NaN         NaN          NaN  \n",
       "1126          NaN         NaN          NaN  \n",
       "5316          NaN         NaN          NaN  \n",
       "8772          NaN         NaN          NaN  \n",
       "7183          NaN         NaN          NaN  \n",
       "3504          NaN         NaN          NaN  \n",
       "7207          NaN         NaN          NaN  \n",
       "7599          NaN         NaN          NaN  \n",
       "6389          NaN         NaN          NaN  \n",
       "4274          NaN         NaN          NaN  \n",
       "7165          NaN         NaN          NaN  \n",
       "307           NaN         NaN          NaN  \n",
       "9689          NaN         NaN          NaN  \n",
       "5647          NaN         NaN          NaN  \n",
       "9224          NaN         NaN          NaN  "
      ]
     },
     "execution_count": 24,
     "metadata": {},
     "output_type": "execute_result"
    }
   ],
   "source": [
    "# Creating a list of columns to check for negative values\n",
    "neg_cols = [\"TransactionID\", \"CustomerID\",\"ProductID\",\"Quantity\",\"Price\",\"TotalSales\",\"CustomerAge\"]\n",
    "\n",
    "# Filtering for negative values using 50 random values\n",
    "data[(data[neg_cols] < 0)].sample(n = 50)"
   ]
  },
  {
   "cell_type": "markdown",
   "id": "dcc563c0",
   "metadata": {},
   "source": [
    "> The results shows that Quantity and CustomerAge has negative values"
   ]
  },
  {
   "cell_type": "code",
   "execution_count": 25,
   "id": "9c848276",
   "metadata": {},
   "outputs": [
    {
     "data": {
      "text/plain": [
       "1939"
      ]
     },
     "execution_count": 25,
     "metadata": {},
     "output_type": "execute_result"
    }
   ],
   "source": [
    "# Checking number of negative values in Quantity column\n",
    "data[\"Quantity\"][(data[\"Quantity\"] < 0)].count()"
   ]
  },
  {
   "cell_type": "code",
   "execution_count": 26,
   "id": "f84a9691",
   "metadata": {},
   "outputs": [
    {
     "data": {
      "text/plain": [
       "974"
      ]
     },
     "execution_count": 26,
     "metadata": {},
     "output_type": "execute_result"
    }
   ],
   "source": [
    "# Checking number of negative values in CustomerAge column\n",
    "data[\"CustomerAge\"][(data[\"CustomerAge\"] < 0)].count()"
   ]
  },
  {
   "cell_type": "markdown",
   "id": "16423fe4",
   "metadata": {},
   "source": [
    "> The results shows that there are 1939 and 974 negative values in the Quantity and CustomerAge columns respectively"
   ]
  },
  {
   "cell_type": "markdown",
   "id": "cb3498a3",
   "metadata": {},
   "source": [
    "> Since quantity and age cannot be have negative values, they need to be resolved. First we look at their unique values "
   ]
  },
  {
   "cell_type": "code",
   "execution_count": 27,
   "id": "e8b62a05",
   "metadata": {},
   "outputs": [
    {
     "data": {
      "text/plain": [
       "-1    381\n",
       "-2    406\n",
       "-3    361\n",
       "-4    401\n",
       "-5    390\n",
       "Name: Quantity, dtype: int64"
      ]
     },
     "execution_count": 27,
     "metadata": {},
     "output_type": "execute_result"
    }
   ],
   "source": [
    "# Checking all the unique negative values in Quantity\n",
    "data[\"Quantity\"][(data[\"Quantity\"] < 0)].value_counts().sort_index(ascending = False)"
   ]
  },
  {
   "cell_type": "markdown",
   "id": "62cb95fe",
   "metadata": {},
   "source": [
    "> For the Quantity column, the lowest value is -5 with an absolute of 5 and the highest value is -1 with an absolute of 1. It is possible to have an purchase of 1 quantity as well as that of 5, so we can assume it was typo error and convert the negative values to their absolute (positive) values."
   ]
  },
  {
   "cell_type": "code",
   "execution_count": 28,
   "id": "00d34bcd",
   "metadata": {},
   "outputs": [
    {
     "data": {
      "text/plain": [
       "0"
      ]
     },
     "execution_count": 28,
     "metadata": {},
     "output_type": "execute_result"
    }
   ],
   "source": [
    "# Finding the absolute of values of the Quantity column\n",
    "data[\"Quantity\"] = data[\"Quantity\"].abs()\n",
    "\n",
    "# Checking for negative values\n",
    "data[\"Quantity\"][(data[\"Quantity\"] < 0)].count()"
   ]
  },
  {
   "cell_type": "markdown",
   "id": "52b72965",
   "metadata": {},
   "source": [
    "> Negative values has been converted to positive values thus no negative values in the Quantity column"
   ]
  },
  {
   "cell_type": "code",
   "execution_count": 29,
   "id": "494685af",
   "metadata": {},
   "outputs": [
    {
     "data": {
      "text/plain": [
       "-1     102\n",
       "-2     102\n",
       "-3      96\n",
       "-4      93\n",
       "-5      98\n",
       "-6      94\n",
       "-7     113\n",
       "-8      97\n",
       "-9      97\n",
       "-10     82\n",
       "Name: CustomerAge, dtype: int64"
      ]
     },
     "execution_count": 29,
     "metadata": {},
     "output_type": "execute_result"
    }
   ],
   "source": [
    "# Checking all the unique negative values in CustomerAge\n",
    "data[\"CustomerAge\"][(data[\"CustomerAge\"] < 0)].value_counts().sort_index(ascending = False)"
   ]
  },
  {
   "cell_type": "markdown",
   "id": "a1de29de",
   "metadata": {},
   "source": [
    "> For the CustomerAge column, we have some values that are not realistic. For example, purchase from a year child is close to impossible. Even that of 2 years. Others are 3 and 4 years. To see if these were errors, we will check for the availability of their positive counterparts in the column."
   ]
  },
  {
   "cell_type": "code",
   "execution_count": 30,
   "id": "b74f22ad",
   "metadata": {},
   "outputs": [
    {
     "data": {
      "text/plain": [
       "1    86\n",
       "2    91\n",
       "3    79\n",
       "4    91\n",
       "Name: CustomerAge, dtype: int64"
      ]
     },
     "execution_count": 30,
     "metadata": {},
     "output_type": "execute_result"
    }
   ],
   "source": [
    "data[\"CustomerAge\"][(data[\"CustomerAge\"] >=1) & (data[\"CustomerAge\"] < 5)].value_counts().sort_index()"
   ]
  },
  {
   "cell_type": "markdown",
   "id": "dccc2cd4",
   "metadata": {},
   "source": [
    "> The results shows there were purchases from age 1,2,3 and even 4 years in high numbers. We'll use another condition to filter out ~ PaymentType. Since those under 18 years cannot make own a \"Debit Card\", \"Credit Card\" or \"Paypal\", we'll look out those under 5 years that made purchases other than with cash (assuming those above 5 and below 18 who did made used of their guardian's own)."
   ]
  },
  {
   "cell_type": "code",
   "execution_count": 31,
   "id": "fc4e491d",
   "metadata": {},
   "outputs": [
    {
     "data": {
      "text/plain": [
       "1    74\n",
       "2    82\n",
       "3    71\n",
       "4    75\n",
       "Name: CustomerAge, dtype: int64"
      ]
     },
     "execution_count": 31,
     "metadata": {},
     "output_type": "execute_result"
    }
   ],
   "source": [
    "data[\"CustomerAge\"][(data[\"CustomerAge\"] >=1) \n",
    "                    & (data[\"CustomerAge\"] < 5) \n",
    "                    & (data[\"PaymentType\"] != \"Cash\")].value_counts().sort_index()"
   ]
  },
  {
   "cell_type": "markdown",
   "id": "a9a32936",
   "metadata": {},
   "source": [
    "> The values above shows number of children below five years, who made purchases without Cash. The negative values will be turned positive and the rows of purchases under 5 years without cash will be removed. "
   ]
  },
  {
   "cell_type": "code",
   "execution_count": 32,
   "id": "da0e98cc",
   "metadata": {},
   "outputs": [
    {
     "data": {
      "text/plain": [
       "0"
      ]
     },
     "execution_count": 32,
     "metadata": {},
     "output_type": "execute_result"
    }
   ],
   "source": [
    "# Finding the absolute of values of the CustomerAge column\n",
    "data[\"CustomerAge\"] = data[\"CustomerAge\"].abs()\n",
    "\n",
    "# Checking for negative values\n",
    "data[\"CustomerAge\"][(data[\"CustomerAge\"] < 0)].count()"
   ]
  },
  {
   "cell_type": "markdown",
   "id": "92b52fac",
   "metadata": {},
   "source": [
    "> Negative values has been converted to positive values thus no negative values in the CustomerAge column"
   ]
  },
  {
   "cell_type": "code",
   "execution_count": 33,
   "id": "820a87a6",
   "metadata": {},
   "outputs": [
    {
     "name": "stdout",
     "output_type": "stream",
     "text": [
      "Initial Shape before removal of rows: (10000, 10)\n"
     ]
    }
   ],
   "source": [
    "print(\"Initial Shape before removal of rows:\", data.shape)"
   ]
  },
  {
   "cell_type": "code",
   "execution_count": 34,
   "id": "ee228b75",
   "metadata": {},
   "outputs": [
    {
     "name": "stdout",
     "output_type": "stream",
     "text": [
      "Shape after removal of rows: (9366, 10)\n"
     ]
    }
   ],
   "source": [
    "# Removing rows where CustomerAge is less than 5 and PurchaseType not Cash\n",
    "data.drop(data[(data[\"CustomerAge\"] >=1) \n",
    "                    & (data[\"CustomerAge\"] < 5) \n",
    "                    & (data[\"PaymentType\"] != \"Cash\")].index, inplace = True)\n",
    "\n",
    "print(\"Shape after removal of rows:\", data.shape)"
   ]
  },
  {
   "cell_type": "markdown",
   "id": "363629df",
   "metadata": {},
   "source": [
    "> From the shape before and after it can been seen that about 634 rows were removed. "
   ]
  },
  {
   "cell_type": "markdown",
   "id": "ab294e22",
   "metadata": {},
   "source": [
    "# Dealing with textual and typo errors"
   ]
  },
  {
   "cell_type": "code",
   "execution_count": 35,
   "id": "0216b6e1",
   "metadata": {},
   "outputs": [
    {
     "data": {
      "text/plain": [
       "Unknown    923\n",
       "Boo E      531\n",
       "Book O     518\n",
       "Book M     492\n",
       "Book L     484\n",
       "Book I     481\n",
       "Book D     481\n",
       "Book J     475\n",
       "Book P     472\n",
       "Book R     469\n",
       "Book T     467\n",
       "Book S     463\n",
       "Book K     460\n",
       "Book G     456\n",
       "Book F     455\n",
       "Bookk H    453\n",
       "Bok N      452\n",
       "Book A     422\n",
       "Book B     412\n",
       "Name: ProductName, dtype: int64"
      ]
     },
     "execution_count": 35,
     "metadata": {},
     "output_type": "execute_result"
    }
   ],
   "source": [
    "# Checking for textual and typo errors in ProductName column\n",
    "data[\"ProductName\"].value_counts()"
   ]
  },
  {
   "cell_type": "markdown",
   "id": "11423311",
   "metadata": {},
   "source": [
    "> The result shows that Book is wrongly spelt in different variations. "
   ]
  },
  {
   "cell_type": "code",
   "execution_count": 36,
   "id": "4d42f242",
   "metadata": {},
   "outputs": [
    {
     "name": "stderr",
     "output_type": "stream",
     "text": [
      "C:\\Users\\hp\\AppData\\Local\\Temp\\ipykernel_10908\\1713952718.py:2: FutureWarning: The default value of regex will change from True to False in a future version.\n",
      "  data[\"ProductName\"] = data[\"ProductName\"].str.replace(r'Bookk|Book|Boo|Bok','Book')\n"
     ]
    },
    {
     "data": {
      "text/plain": [
       "Unknown    923\n",
       "Book E     531\n",
       "Book O     518\n",
       "Book M     492\n",
       "Book L     484\n",
       "Book I     481\n",
       "Book D     481\n",
       "Book J     475\n",
       "Book P     472\n",
       "Book R     469\n",
       "Book T     467\n",
       "Book S     463\n",
       "Book K     460\n",
       "Book G     456\n",
       "Book F     455\n",
       "Book H     453\n",
       "Book N     452\n",
       "Book A     422\n",
       "Book B     412\n",
       "Name: ProductName, dtype: int64"
      ]
     },
     "execution_count": 36,
     "metadata": {},
     "output_type": "execute_result"
    }
   ],
   "source": [
    "# Using .str.replace() method and regex to correct the errors\n",
    "data[\"ProductName\"] = data[\"ProductName\"].str.replace(r'Bookk|Book|Boo|Bok','Book')\n",
    "\n",
    "data[\"ProductName\"].value_counts()"
   ]
  },
  {
   "cell_type": "markdown",
   "id": "c77beed5",
   "metadata": {},
   "source": [
    "> Result shows that the product names have been corrected"
   ]
  },
  {
   "cell_type": "markdown",
   "id": "09b43223",
   "metadata": {},
   "source": [
    "# Identifying and dealing with errors"
   ]
  },
  {
   "cell_type": "markdown",
   "id": "993972bd",
   "metadata": {},
   "source": [
    "> TotalSales is suppose to be \"Quantity\" * \"Price\". If the values on the Total sales is checked we discover the values aren't correct. This is to be resolved"
   ]
  },
  {
   "cell_type": "code",
   "execution_count": 37,
   "id": "8c500f3e",
   "metadata": {},
   "outputs": [
    {
     "data": {
      "text/html": [
       "<div>\n",
       "<style scoped>\n",
       "    .dataframe tbody tr th:only-of-type {\n",
       "        vertical-align: middle;\n",
       "    }\n",
       "\n",
       "    .dataframe tbody tr th {\n",
       "        vertical-align: top;\n",
       "    }\n",
       "\n",
       "    .dataframe thead th {\n",
       "        text-align: right;\n",
       "    }\n",
       "</style>\n",
       "<table border=\"1\" class=\"dataframe\">\n",
       "  <thead>\n",
       "    <tr style=\"text-align: right;\">\n",
       "      <th></th>\n",
       "      <th>TransactionID</th>\n",
       "      <th>Date</th>\n",
       "      <th>CustomerID</th>\n",
       "      <th>ProductID</th>\n",
       "      <th>ProductName</th>\n",
       "      <th>Quantity</th>\n",
       "      <th>Price</th>\n",
       "      <th>TotalSales</th>\n",
       "      <th>PaymentType</th>\n",
       "      <th>CustomerAge</th>\n",
       "      <th>CalculatedTotalSales</th>\n",
       "    </tr>\n",
       "  </thead>\n",
       "  <tbody>\n",
       "    <tr>\n",
       "      <th>0</th>\n",
       "      <td>7402</td>\n",
       "      <td>2026-03-17</td>\n",
       "      <td>991</td>\n",
       "      <td>1045</td>\n",
       "      <td>Book E</td>\n",
       "      <td>9</td>\n",
       "      <td>167.72</td>\n",
       "      <td>2935.06</td>\n",
       "      <td>Unknown</td>\n",
       "      <td>87</td>\n",
       "      <td>1509.48</td>\n",
       "    </tr>\n",
       "    <tr>\n",
       "      <th>1</th>\n",
       "      <td>5835</td>\n",
       "      <td>2035-01-26</td>\n",
       "      <td>741</td>\n",
       "      <td>1040</td>\n",
       "      <td>Book J</td>\n",
       "      <td>18</td>\n",
       "      <td>193.27</td>\n",
       "      <td>4386.52</td>\n",
       "      <td>Debit Card</td>\n",
       "      <td>69</td>\n",
       "      <td>3478.86</td>\n",
       "    </tr>\n",
       "  </tbody>\n",
       "</table>\n",
       "</div>"
      ],
      "text/plain": [
       "   TransactionID       Date  CustomerID  ProductID ProductName  Quantity  \\\n",
       "0           7402 2026-03-17         991       1045      Book E         9   \n",
       "1           5835 2035-01-26         741       1040      Book J        18   \n",
       "\n",
       "    Price  TotalSales PaymentType  CustomerAge  CalculatedTotalSales  \n",
       "0  167.72     2935.06     Unknown           87               1509.48  \n",
       "1  193.27     4386.52  Debit Card           69               3478.86  "
      ]
     },
     "execution_count": 37,
     "metadata": {},
     "output_type": "execute_result"
    }
   ],
   "source": [
    "# Creating a new column to store the calculated values\n",
    "data[\"CalculatedTotalSales\"] = (data[\"Quantity\"] * data[\"Price\"])\n",
    "\n",
    "data.head(2)"
   ]
  },
  {
   "cell_type": "code",
   "execution_count": 38,
   "id": "1cfcc8e8",
   "metadata": {},
   "outputs": [
    {
     "data": {
      "text/html": [
       "<div>\n",
       "<style scoped>\n",
       "    .dataframe tbody tr th:only-of-type {\n",
       "        vertical-align: middle;\n",
       "    }\n",
       "\n",
       "    .dataframe tbody tr th {\n",
       "        vertical-align: top;\n",
       "    }\n",
       "\n",
       "    .dataframe thead th {\n",
       "        text-align: right;\n",
       "    }\n",
       "</style>\n",
       "<table border=\"1\" class=\"dataframe\">\n",
       "  <thead>\n",
       "    <tr style=\"text-align: right;\">\n",
       "      <th></th>\n",
       "      <th>TransactionID</th>\n",
       "      <th>Date</th>\n",
       "      <th>CustomerID</th>\n",
       "      <th>ProductID</th>\n",
       "      <th>ProductName</th>\n",
       "      <th>Quantity</th>\n",
       "      <th>Price</th>\n",
       "      <th>TotalSales</th>\n",
       "      <th>PaymentType</th>\n",
       "      <th>CustomerAge</th>\n",
       "      <th>CalculatedTotalSales</th>\n",
       "    </tr>\n",
       "  </thead>\n",
       "  <tbody>\n",
       "    <tr>\n",
       "      <th>0</th>\n",
       "      <td>7402</td>\n",
       "      <td>2026-03-17</td>\n",
       "      <td>991</td>\n",
       "      <td>1045</td>\n",
       "      <td>Book E</td>\n",
       "      <td>9</td>\n",
       "      <td>167.72</td>\n",
       "      <td>1509.48</td>\n",
       "      <td>Unknown</td>\n",
       "      <td>87</td>\n",
       "      <td>1509.48</td>\n",
       "    </tr>\n",
       "    <tr>\n",
       "      <th>1</th>\n",
       "      <td>5835</td>\n",
       "      <td>2035-01-26</td>\n",
       "      <td>741</td>\n",
       "      <td>1040</td>\n",
       "      <td>Book J</td>\n",
       "      <td>18</td>\n",
       "      <td>193.27</td>\n",
       "      <td>3478.86</td>\n",
       "      <td>Debit Card</td>\n",
       "      <td>69</td>\n",
       "      <td>3478.86</td>\n",
       "    </tr>\n",
       "    <tr>\n",
       "      <th>2</th>\n",
       "      <td>2123</td>\n",
       "      <td>2035-05-26</td>\n",
       "      <td>933</td>\n",
       "      <td>1062</td>\n",
       "      <td>Book N</td>\n",
       "      <td>5</td>\n",
       "      <td>126.39</td>\n",
       "      <td>631.95</td>\n",
       "      <td>Cash</td>\n",
       "      <td>15</td>\n",
       "      <td>631.95</td>\n",
       "    </tr>\n",
       "    <tr>\n",
       "      <th>3</th>\n",
       "      <td>8789</td>\n",
       "      <td>2036-02-28</td>\n",
       "      <td>641</td>\n",
       "      <td>1060</td>\n",
       "      <td>Book I</td>\n",
       "      <td>6</td>\n",
       "      <td>66.98</td>\n",
       "      <td>401.88</td>\n",
       "      <td>Cash</td>\n",
       "      <td>22</td>\n",
       "      <td>401.88</td>\n",
       "    </tr>\n",
       "    <tr>\n",
       "      <th>4</th>\n",
       "      <td>305</td>\n",
       "      <td>2023-04-19</td>\n",
       "      <td>123</td>\n",
       "      <td>1058</td>\n",
       "      <td>Book B</td>\n",
       "      <td>15</td>\n",
       "      <td>33.63</td>\n",
       "      <td>504.45</td>\n",
       "      <td>Cash</td>\n",
       "      <td>1</td>\n",
       "      <td>504.45</td>\n",
       "    </tr>\n",
       "  </tbody>\n",
       "</table>\n",
       "</div>"
      ],
      "text/plain": [
       "   TransactionID       Date  CustomerID  ProductID ProductName  Quantity  \\\n",
       "0           7402 2026-03-17         991       1045      Book E         9   \n",
       "1           5835 2035-01-26         741       1040      Book J        18   \n",
       "2           2123 2035-05-26         933       1062      Book N         5   \n",
       "3           8789 2036-02-28         641       1060      Book I         6   \n",
       "4            305 2023-04-19         123       1058      Book B        15   \n",
       "\n",
       "    Price  TotalSales PaymentType  CustomerAge  CalculatedTotalSales  \n",
       "0  167.72     1509.48     Unknown           87               1509.48  \n",
       "1  193.27     3478.86  Debit Card           69               3478.86  \n",
       "2  126.39      631.95        Cash           15                631.95  \n",
       "3   66.98      401.88        Cash           22                401.88  \n",
       "4   33.63      504.45        Cash            1                504.45  "
      ]
     },
     "execution_count": 38,
     "metadata": {},
     "output_type": "execute_result"
    }
   ],
   "source": [
    "# Replacing values of TotalSales with that of CalculatedTotalSales\n",
    "data[\"TotalSales\"] = data[\"CalculatedTotalSales\"]\n",
    "\n",
    "data.head()"
   ]
  },
  {
   "cell_type": "markdown",
   "id": "4bb958a1",
   "metadata": {},
   "source": [
    "> Result shows the TotalSales has been corrected."
   ]
  },
  {
   "cell_type": "code",
   "execution_count": 41,
   "id": "24bea316",
   "metadata": {},
   "outputs": [
    {
     "data": {
      "text/html": [
       "<div>\n",
       "<style scoped>\n",
       "    .dataframe tbody tr th:only-of-type {\n",
       "        vertical-align: middle;\n",
       "    }\n",
       "\n",
       "    .dataframe tbody tr th {\n",
       "        vertical-align: top;\n",
       "    }\n",
       "\n",
       "    .dataframe thead th {\n",
       "        text-align: right;\n",
       "    }\n",
       "</style>\n",
       "<table border=\"1\" class=\"dataframe\">\n",
       "  <thead>\n",
       "    <tr style=\"text-align: right;\">\n",
       "      <th></th>\n",
       "      <th>TransactionID</th>\n",
       "      <th>Date</th>\n",
       "      <th>CustomerID</th>\n",
       "      <th>ProductID</th>\n",
       "      <th>ProductName</th>\n",
       "      <th>Quantity</th>\n",
       "      <th>Price</th>\n",
       "      <th>TotalSales</th>\n",
       "      <th>PaymentType</th>\n",
       "      <th>CustomerAge</th>\n",
       "    </tr>\n",
       "  </thead>\n",
       "  <tbody>\n",
       "    <tr>\n",
       "      <th>0</th>\n",
       "      <td>7402</td>\n",
       "      <td>2026-03-17</td>\n",
       "      <td>991</td>\n",
       "      <td>1045</td>\n",
       "      <td>Book E</td>\n",
       "      <td>9</td>\n",
       "      <td>167.72</td>\n",
       "      <td>1509.48</td>\n",
       "      <td>Unknown</td>\n",
       "      <td>87</td>\n",
       "    </tr>\n",
       "    <tr>\n",
       "      <th>1</th>\n",
       "      <td>5835</td>\n",
       "      <td>2035-01-26</td>\n",
       "      <td>741</td>\n",
       "      <td>1040</td>\n",
       "      <td>Book J</td>\n",
       "      <td>18</td>\n",
       "      <td>193.27</td>\n",
       "      <td>3478.86</td>\n",
       "      <td>Debit Card</td>\n",
       "      <td>69</td>\n",
       "    </tr>\n",
       "    <tr>\n",
       "      <th>2</th>\n",
       "      <td>2123</td>\n",
       "      <td>2035-05-26</td>\n",
       "      <td>933</td>\n",
       "      <td>1062</td>\n",
       "      <td>Book N</td>\n",
       "      <td>5</td>\n",
       "      <td>126.39</td>\n",
       "      <td>631.95</td>\n",
       "      <td>Cash</td>\n",
       "      <td>15</td>\n",
       "    </tr>\n",
       "    <tr>\n",
       "      <th>3</th>\n",
       "      <td>8789</td>\n",
       "      <td>2036-02-28</td>\n",
       "      <td>641</td>\n",
       "      <td>1060</td>\n",
       "      <td>Book I</td>\n",
       "      <td>6</td>\n",
       "      <td>66.98</td>\n",
       "      <td>401.88</td>\n",
       "      <td>Cash</td>\n",
       "      <td>22</td>\n",
       "    </tr>\n",
       "    <tr>\n",
       "      <th>4</th>\n",
       "      <td>305</td>\n",
       "      <td>2023-04-19</td>\n",
       "      <td>123</td>\n",
       "      <td>1058</td>\n",
       "      <td>Book B</td>\n",
       "      <td>15</td>\n",
       "      <td>33.63</td>\n",
       "      <td>504.45</td>\n",
       "      <td>Cash</td>\n",
       "      <td>1</td>\n",
       "    </tr>\n",
       "  </tbody>\n",
       "</table>\n",
       "</div>"
      ],
      "text/plain": [
       "   TransactionID       Date  CustomerID  ProductID ProductName  Quantity  \\\n",
       "0           7402 2026-03-17         991       1045      Book E         9   \n",
       "1           5835 2035-01-26         741       1040      Book J        18   \n",
       "2           2123 2035-05-26         933       1062      Book N         5   \n",
       "3           8789 2036-02-28         641       1060      Book I         6   \n",
       "4            305 2023-04-19         123       1058      Book B        15   \n",
       "\n",
       "    Price  TotalSales PaymentType  CustomerAge  \n",
       "0  167.72     1509.48     Unknown           87  \n",
       "1  193.27     3478.86  Debit Card           69  \n",
       "2  126.39      631.95        Cash           15  \n",
       "3   66.98      401.88        Cash           22  \n",
       "4   33.63      504.45        Cash            1  "
      ]
     },
     "execution_count": 41,
     "metadata": {},
     "output_type": "execute_result"
    }
   ],
   "source": [
    "# Removing the calculated column\n",
    "data.drop(columns = \"CalculatedTotalSales\", axis=1, inplace = True)\n",
    "\n",
    "data.head(5)"
   ]
  },
  {
   "cell_type": "markdown",
   "id": "91dc52f5",
   "metadata": {},
   "source": [
    "# Identifying outliers"
   ]
  },
  {
   "cell_type": "markdown",
   "id": "942d5238",
   "metadata": {},
   "source": [
    "> There are different methods used for identifying outliers. Descriptive statistics will be taken to see if there are any unrealistic values"
   ]
  },
  {
   "cell_type": "code",
   "execution_count": 52,
   "id": "a2ae7fe6",
   "metadata": {},
   "outputs": [
    {
     "data": {
      "text/html": [
       "<div>\n",
       "<style scoped>\n",
       "    .dataframe tbody tr th:only-of-type {\n",
       "        vertical-align: middle;\n",
       "    }\n",
       "\n",
       "    .dataframe tbody tr th {\n",
       "        vertical-align: top;\n",
       "    }\n",
       "\n",
       "    .dataframe thead th {\n",
       "        text-align: right;\n",
       "    }\n",
       "</style>\n",
       "<table border=\"1\" class=\"dataframe\">\n",
       "  <thead>\n",
       "    <tr style=\"text-align: right;\">\n",
       "      <th></th>\n",
       "      <th>count</th>\n",
       "      <th>mean</th>\n",
       "      <th>std</th>\n",
       "      <th>min</th>\n",
       "      <th>25%</th>\n",
       "      <th>50%</th>\n",
       "      <th>75%</th>\n",
       "      <th>max</th>\n",
       "    </tr>\n",
       "  </thead>\n",
       "  <tbody>\n",
       "    <tr>\n",
       "      <th>TransactionID</th>\n",
       "      <td>9366.0</td>\n",
       "      <td>4999.579757</td>\n",
       "      <td>2888.080883</td>\n",
       "      <td>1.00</td>\n",
       "      <td>2499.2500</td>\n",
       "      <td>4993.500</td>\n",
       "      <td>7509.7500</td>\n",
       "      <td>10000.00</td>\n",
       "    </tr>\n",
       "    <tr>\n",
       "      <th>CustomerID</th>\n",
       "      <td>9366.0</td>\n",
       "      <td>504.483237</td>\n",
       "      <td>289.639644</td>\n",
       "      <td>1.00</td>\n",
       "      <td>254.2500</td>\n",
       "      <td>508.500</td>\n",
       "      <td>761.0000</td>\n",
       "      <td>999.00</td>\n",
       "    </tr>\n",
       "    <tr>\n",
       "      <th>ProductID</th>\n",
       "      <td>9366.0</td>\n",
       "      <td>1049.610399</td>\n",
       "      <td>28.936847</td>\n",
       "      <td>1000.00</td>\n",
       "      <td>1024.0000</td>\n",
       "      <td>1050.000</td>\n",
       "      <td>1074.0000</td>\n",
       "      <td>1099.00</td>\n",
       "    </tr>\n",
       "    <tr>\n",
       "      <th>Quantity</th>\n",
       "      <td>9366.0</td>\n",
       "      <td>8.198164</td>\n",
       "      <td>5.849256</td>\n",
       "      <td>0.00</td>\n",
       "      <td>3.0000</td>\n",
       "      <td>7.000</td>\n",
       "      <td>13.0000</td>\n",
       "      <td>19.00</td>\n",
       "    </tr>\n",
       "    <tr>\n",
       "      <th>Price</th>\n",
       "      <td>9366.0</td>\n",
       "      <td>102.284657</td>\n",
       "      <td>56.403322</td>\n",
       "      <td>5.03</td>\n",
       "      <td>54.1125</td>\n",
       "      <td>101.875</td>\n",
       "      <td>151.2750</td>\n",
       "      <td>199.98</td>\n",
       "    </tr>\n",
       "    <tr>\n",
       "      <th>TotalSales</th>\n",
       "      <td>9366.0</td>\n",
       "      <td>835.776045</td>\n",
       "      <td>829.246874</td>\n",
       "      <td>0.00</td>\n",
       "      <td>193.9025</td>\n",
       "      <td>541.500</td>\n",
       "      <td>1236.5625</td>\n",
       "      <td>3796.01</td>\n",
       "    </tr>\n",
       "    <tr>\n",
       "      <th>CustomerAge</th>\n",
       "      <td>9366.0</td>\n",
       "      <td>48.452488</td>\n",
       "      <td>29.333184</td>\n",
       "      <td>0.00</td>\n",
       "      <td>22.0000</td>\n",
       "      <td>48.000</td>\n",
       "      <td>74.0000</td>\n",
       "      <td>99.00</td>\n",
       "    </tr>\n",
       "    <tr>\n",
       "      <th>CalculatedTotalSales</th>\n",
       "      <td>9366.0</td>\n",
       "      <td>835.776045</td>\n",
       "      <td>829.246874</td>\n",
       "      <td>0.00</td>\n",
       "      <td>193.9025</td>\n",
       "      <td>541.500</td>\n",
       "      <td>1236.5625</td>\n",
       "      <td>3796.01</td>\n",
       "    </tr>\n",
       "  </tbody>\n",
       "</table>\n",
       "</div>"
      ],
      "text/plain": [
       "                       count         mean          std      min        25%  \\\n",
       "TransactionID         9366.0  4999.579757  2888.080883     1.00  2499.2500   \n",
       "CustomerID            9366.0   504.483237   289.639644     1.00   254.2500   \n",
       "ProductID             9366.0  1049.610399    28.936847  1000.00  1024.0000   \n",
       "Quantity              9366.0     8.198164     5.849256     0.00     3.0000   \n",
       "Price                 9366.0   102.284657    56.403322     5.03    54.1125   \n",
       "TotalSales            9366.0   835.776045   829.246874     0.00   193.9025   \n",
       "CustomerAge           9366.0    48.452488    29.333184     0.00    22.0000   \n",
       "CalculatedTotalSales  9366.0   835.776045   829.246874     0.00   193.9025   \n",
       "\n",
       "                           50%        75%       max  \n",
       "TransactionID         4993.500  7509.7500  10000.00  \n",
       "CustomerID             508.500   761.0000    999.00  \n",
       "ProductID             1050.000  1074.0000   1099.00  \n",
       "Quantity                 7.000    13.0000     19.00  \n",
       "Price                  101.875   151.2750    199.98  \n",
       "TotalSales             541.500  1236.5625   3796.01  \n",
       "CustomerAge             48.000    74.0000     99.00  \n",
       "CalculatedTotalSales   541.500  1236.5625   3796.01  "
      ]
     },
     "execution_count": 52,
     "metadata": {},
     "output_type": "execute_result"
    }
   ],
   "source": [
    "# Taking descriptive stats\n",
    "\n",
    "data.describe().T"
   ]
  },
  {
   "cell_type": "markdown",
   "id": "95ea2215",
   "metadata": {},
   "source": [
    " > From the descriptive statistics, we see outliers in the Quantity and CustomerAge columns having thier minimum values to be 0.00. Since there's a TransactionID, it means the customer purchased a product of certain quantity. Since there's no enough information,rows with 0 quantity will be dropped. Rows where customer age is 0 will also be dropped or removed. "
   ]
  },
  {
   "cell_type": "code",
   "execution_count": 42,
   "id": "d159317f",
   "metadata": {},
   "outputs": [
    {
     "name": "stdout",
     "output_type": "stream",
     "text": [
      "Initial shape before row removal: (9366, 10)\n"
     ]
    }
   ],
   "source": [
    "print(\"Initial shape before row removal:\", data.shape)"
   ]
  },
  {
   "cell_type": "code",
   "execution_count": 43,
   "id": "49dc5473",
   "metadata": {},
   "outputs": [],
   "source": [
    "# Removing rows where Quantity is zero or CustomerAge is zero \n",
    "data.drop(data[(data[\"Quantity\"] == 0)\n",
    "          | (data[\"CustomerAge\"] == 0)].index, inplace = True)"
   ]
  },
  {
   "cell_type": "code",
   "execution_count": 44,
   "id": "8d7691c8",
   "metadata": {},
   "outputs": [
    {
     "name": "stdout",
     "output_type": "stream",
     "text": [
      "Shape after rows removal: (8854, 10)\n"
     ]
    }
   ],
   "source": [
    "print(\"Shape after rows removal:\", data.shape)"
   ]
  },
  {
   "cell_type": "markdown",
   "id": "5b125e3d",
   "metadata": {},
   "source": [
    "> From the result 512 rows were removed. "
   ]
  },
  {
   "cell_type": "code",
   "execution_count": 45,
   "id": "c9982f60",
   "metadata": {},
   "outputs": [
    {
     "data": {
      "text/plain": [
       "1      27\n",
       "2      26\n",
       "3      19\n",
       "4      30\n",
       "5     168\n",
       "     ... \n",
       "95     97\n",
       "96     83\n",
       "97     88\n",
       "98     97\n",
       "99     87\n",
       "Name: CustomerAge, Length: 99, dtype: int64"
      ]
     },
     "execution_count": 45,
     "metadata": {},
     "output_type": "execute_result"
    }
   ],
   "source": [
    "# Checking for unrealistic outliers in CustomerAge\n",
    "data[\"CustomerAge\"].value_counts().sort_index()"
   ]
  },
  {
   "cell_type": "markdown",
   "id": "cd5b5eb0",
   "metadata": {},
   "source": [
    "> Depending on the business, but in any business customer of 1 year is quite unlikely. This is an outlier. "
   ]
  },
  {
   "cell_type": "markdown",
   "id": "c94483c9",
   "metadata": {},
   "source": [
    "# Saving the cleaned data in another file"
   ]
  },
  {
   "cell_type": "code",
   "execution_count": 47,
   "id": "45182bbe",
   "metadata": {},
   "outputs": [],
   "source": [
    "# Saving the cleaned data as a csv file\n",
    "data.to_csv(\"cleaned data\")"
   ]
  },
  {
   "cell_type": "code",
   "execution_count": null,
   "id": "2e750e97",
   "metadata": {},
   "outputs": [],
   "source": []
  }
 ],
 "metadata": {
  "kernelspec": {
   "display_name": "Python 3 (ipykernel)",
   "language": "python",
   "name": "python3"
  },
  "language_info": {
   "codemirror_mode": {
    "name": "ipython",
    "version": 3
   },
   "file_extension": ".py",
   "mimetype": "text/x-python",
   "name": "python",
   "nbconvert_exporter": "python",
   "pygments_lexer": "ipython3",
   "version": "3.9.13"
  }
 },
 "nbformat": 4,
 "nbformat_minor": 5
}
